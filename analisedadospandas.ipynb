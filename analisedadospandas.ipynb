{
 "cells": [
  {
   "cell_type": "markdown",
   "id": "74c1d1f2",
   "metadata": {},
   "source": [
    "**ANALISE DE DADOS COM O PANDAS + INTEGRAÇAO PYTHON E EXCEL**"
   ]
  },
  {
   "cell_type": "code",
   "execution_count": null,
   "id": "83805c4f",
   "metadata": {},
   "outputs": [],
   "source": [
    "#########################################################################################\n",
    "#\n",
    "# O que é PANDAS e para que serve 🚀\n",
    "#\n",
    "# O pandas é a ferramenta essencial para trabalhar com dados no Python, seja para explorar, limpar, organizar ou \n",
    "# preparar informações para análises e modelos.\n",
    "#\n",
    "# Com Pandas você pode:\n",
    "#\n",
    "# • Carregar dados de arquivos (CSV, Excel, SQL, JSON, etc.).\n",
    "# • Explorar dados (ver quantas linhas tem, quais são as colunas, estatísticas rápidas).\n",
    "# • Limpar dados (tratar valores ausentes, remover duplicados, converter tipos de dados).\n",
    "# • Transformar dados (criar colunas, agrupar, ordenar, filtrar, combinar tabelas).\n",
    "# • Analisar estatisticamente (médias, medianas, contagens, correlações, etc.).\n",
    "# • Preparar dados para machine learning ou visualização.\n",
    "#\n",
    "# 🔹 Dica\n",
    "# As vezes a leitura do arquivo pode apresentar erro por causa do enconding. Mas o que é enconding? \n",
    "# Encoding é a forma como os caracteres de texto são convertidos em números para o computador entender.\n",
    "# O mais comum e recomendado é UTF-8, mas você pode encontrar outros como ASCII, Latin-1, Windows-1252, UTF-16.\n",
    "#\n",
    "# --Tenta abrir com UTF-8 (o mais comum)\n",
    "#  df = pd.read_csv(\"dados.csv\", encoding=\"utf-8\")\n",
    "#\n",
    "#  --Se der erro ou aparecer caracteres estranhos, tenta outro:\n",
    "#  df = pd.read_csv(\"dados.csv\", encoding=\"latin-1\")\n",
    "#  df = pd.read_csv(\"dados.csv\", encoding=\"windows-1252\")\n",
    "#\n",
    "#\n",
    "# DATAFRAME DO PANDAS\n",
    "# O Dataframe é parecido com uma tabela. \n",
    "# • As colunas funcionam como chaves de dicionario \n",
    "# • As linhas funcionam como listas \n",
    "#\n",
    "#########################################################################################\n"
   ]
  },
  {
   "cell_type": "code",
   "execution_count": null,
   "id": "329c1f9c",
   "metadata": {},
   "outputs": [],
   "source": [
    "#------------------------------------------------------------------------------------\n",
    "# PANDAS E CSV \n",
    "# Quase sempre usaremos o pandas para ler um arquivo csv, é pratico e bem eficiente. 👌\n",
    "#------------------------------------------------------------------------------------\n",
    "\n",
    "import pandas as pd\n",
    "\n",
    "vendas_df = pd.read_csv('Contoso - Cadastro Produtos.csv', sep=';')\n",
    "vendas_df"
   ]
  },
  {
   "cell_type": "code",
   "execution_count": null,
   "id": "8f3d2862",
   "metadata": {},
   "outputs": [],
   "source": [
    "#------------------------------------------------------------------------------------\n",
    "#  No pandas, o comando .info() é usado para exibir um resumo rápido do seu DataFrame.\n",
    "#------------------------------------------------------------------------------------\n",
    "\n",
    "vendas_df.info()"
   ]
  },
  {
   "cell_type": "code",
   "execution_count": null,
   "id": "bab1af6d",
   "metadata": {},
   "outputs": [],
   "source": [
    "#------------------------------------------------------------------------------------\n",
    "# ☑️ 5.TRATAMENTO DE DADOS E MULTIPLAS BASES\n",
    "#\n",
    "# Comparando, tratando e mesclando Dataframes\n",
    "# \n",
    "# 🎯 Objetivo: \n",
    "# • Vamos modificar os IDs para os nomes dos produtos, dos clientes e das lojas, para nossas analises \n",
    "# ficarem mais intuitivas. Para isso, vamos criar um data frame com todos os detalhes.\n",
    "# • Usaremos o metodo merge para isso e, depois podemos pegar apenas as colunas que queremos \n",
    "# do dataframe final.\n",
    "#\n",
    "#------------------------------------------------------------------------------------\n",
    "\n",
    "import pandas as pd\n",
    "vendas_df = pd.read_csv('Contoso - Vendas - 2017.csv', sep=';')\n",
    "produtos_df = pd.read_csv('Contoso - Cadastro Produtos.csv', sep=';')\n",
    "lojas_df = pd.read_csv('Contoso - Lojas.csv',sep=';')\n",
    "clientes_df = pd.read_csv('Contoso - Clientes.csv', sep=';')\n",
    "\n",
    "# usaremos o display para ver todos os dataframes\n",
    "\n",
    "display(vendas_df)\n",
    "display(produtos_df)\n",
    "display(lojas_df)\n",
    "display(clientes_df)\n",
    "\n"
   ]
  },
  {
   "cell_type": "code",
   "execution_count": null,
   "id": "1a356d5f",
   "metadata": {},
   "outputs": [],
   "source": [
    "#------------------------------------------------------------------------------------\n",
    "#  Vamos tirar as colunas intuteis do cliente_df ou pegar apenas as colunas que quisermos\n",
    "#------------------------------------------------------------------------------------\n",
    "\n",
    "clientes_df = clientes_df[['ID Cliente','E-mail']]\n",
    "produtos_df = produtos_df[['ID Produto','Nome do Produto']]\n",
    "lojas_df = lojas_df[['ID Loja','Nome da Loja']]\n",
    "display(produtos_df)"
   ]
  },
  {
   "cell_type": "code",
   "execution_count": null,
   "id": "2c444322",
   "metadata": {},
   "outputs": [],
   "source": [
    "#------------------------------------------------------------------------------------\n",
    "#  Agora vamos juntar os dataframes para ter 1 único dataframe com tudo que precisamos\n",
    "#------------------------------------------------------------------------------------\n",
    "\n",
    "vendas_df = vendas_df.merge(produtos_df,on='ID Produto')\n",
    "vendas_df = vendas_df.merge(lojas_df,on='ID Loja')\n",
    "vendas_df = vendas_df.merge(clientes_df,on='ID Cliente')\n",
    "\n",
    "\n",
    "# vamos renomear o e-mail para ficar claro que é do cliente\n",
    "vendas_df = vendas_df.rename(columns={'E-mail': 'E-mail do Cliente'})\n",
    "\n",
    "# exibindo o dataframe final\n",
    "display(vendas_df)"
   ]
  },
  {
   "cell_type": "code",
   "execution_count": null,
   "id": "a801d271",
   "metadata": {},
   "outputs": [],
   "source": [
    "#------------------------------------------------------------------------------------\n",
    "# ☑️ 6. Análises e Visualização de Dados no pandas (Parte 1)\n",
    "# \n",
    "# 🎯 Objetivo: \n",
    "# • Preparando as bases de dados e respondendo perguntas\n",
    "#\n",
    "#------------------------------------------------------------------------------------\n",
    "import matplotlib\n",
    "\n",
    "# Qual cliente que comprou mais vezes ❓\n",
    "# 👉 Usaremos o metodo .value_counts() para contar quantas vezes cada valor do Dataframe aparece\n",
    "\n",
    "frequencia_clientes = vendas_df['E-mail do Cliente'].value_counts()\n",
    "display(frequencia_clientes)\n"
   ]
  },
  {
   "cell_type": "code",
   "execution_count": null,
   "id": "cadc043d",
   "metadata": {},
   "outputs": [],
   "source": [
    "# 👉 Usaremos o metodo .plot() para exibir um grafico\n",
    "\n",
    "# exibindo os cinco primeiros clientes\n",
    "frequencia_clientes[:5].plot(figsize=(15,5), yticks=range(0,100,5))"
   ]
  },
  {
   "cell_type": "code",
   "execution_count": null,
   "id": "3c2cab1e",
   "metadata": {},
   "outputs": [],
   "source": [
    "#------------------------------------------------------------------------------------\n",
    "# ☑️ 7. Análises e Visualização de Dados no pandas (Parte 2)\n",
    "# \n",
    "# 🎯 Objetivo: \n",
    "# • Preparando as bases de dados e respondendo perguntas\n",
    "#\n",
    "#------------------------------------------------------------------------------------\n",
    "\n",
    "# Qual a loja que mais vendeu ❓\n",
    "\n",
    "# 👉 Usaremos o .groupby para agrupar o nosso dataframe, de acordo com o que queremos (somando as qtdes de vendas, por exemplo)\n",
    "\n",
    "vendas_lojas = vendas_df.groupby('Nome da Loja').sum()\n",
    "vendas_lojas = vendas_lojas[['Quantidade Vendida']] \n",
    "display(vendas_lojas)"
   ]
  },
  {
   "cell_type": "code",
   "execution_count": null,
   "id": "777b6c83",
   "metadata": {},
   "outputs": [],
   "source": [
    "# 👉 ordenando o dataframe usando o metodo sort_values\n",
    "\n",
    "vendas_lojas = vendas_lojas.sort_values('Quantidade Vendida', ascending=False)\n",
    "display(vendas_lojas)"
   ]
  },
  {
   "cell_type": "code",
   "execution_count": null,
   "id": "b3a849ca",
   "metadata": {},
   "outputs": [],
   "source": [
    "# 👉 podemos plotar em um grafico de barras\n",
    "\n",
    "vendas_lojas[:5].plot(figsize=(15,5), kind='bar')"
   ]
  },
  {
   "cell_type": "code",
   "execution_count": null,
   "id": "3d45d2ad",
   "metadata": {},
   "outputs": [],
   "source": [
    "# 👉 pegando o valor da maior e melhor loja diretamente\n",
    "\n",
    "maior_valor = vendas_lojas['Quantidade Vendida'].max()\n",
    "melhor_loja = vendas_lojas['Quantidade Vendida'].idxmax()\n",
    "print(melhor_loja, maior_valor)"
   ]
  },
  {
   "cell_type": "code",
   "execution_count": null,
   "id": "9c38765b",
   "metadata": {},
   "outputs": [],
   "source": [
    "# Qual produto que menos vendeu  ❓\n",
    "\n",
    "# 👉 Ja temos uma lista para isso, basta verificarmos o final da lista (ja que ela esta ordenada) ou entao usarmos os metodos: min() ou idxmin()\n",
    "\n",
    "vendas_lojas[-1:]\n"
   ]
  },
  {
   "cell_type": "code",
   "execution_count": null,
   "id": "ad9b403a",
   "metadata": {},
   "outputs": [],
   "source": [
    "#------------------------------------------------------------------------------------\n",
    "# ☑️ 8. Filtrando um Dataframe\n",
    "# \n",
    "#------------------------------------------------------------------------------------\n",
    "\n",
    "# Qual o % das vendas que foi devolvido ❓\n",
    "\n",
    "qtde_vendida = vendas_df['Quantidade Vendida'].sum()\n",
    "qtde_devolvida = vendas_df['Quantidade Devolvida'].sum()\n",
    "print('{:.2%}'.format(qtde_devolvida / qtde_vendida))\n"
   ]
  },
  {
   "cell_type": "code",
   "execution_count": null,
   "id": "a75a471f",
   "metadata": {},
   "outputs": [],
   "source": [
    "# Agora se quisermos a mesma analise apenas para 1 loja. Queremos filtrasr apenas os itens da loja contoso europa online e saber o % de devolucao dessa loja\n",
    "\n",
    "vendas_lojacontosoeuropeonline = vendas_df[vendas_df['ID Loja'] == 306]\n",
    "display(vendas_lojacontosoeuropeonline)\n",
    "\n",
    "qtde_vendida = vendas_lojacontosoeuropeonline['Quantidade Vendida'].sum()\n",
    "qtde_devolvida = vendas_lojacontosoeuropeonline['Quantidade Devolvida'].sum()\n",
    "print('{:.2%}'.format(qtde_devolvida / qtde_vendida))"
   ]
  },
  {
   "cell_type": "code",
   "execution_count": null,
   "id": "4a7e5545",
   "metadata": {},
   "outputs": [],
   "source": [
    "# Desafio: e se eu quisesse criar uma tabela apenas com as vendas da loja contoso europe online e que nao tiveram nenhuma devolucao.\n",
    "# Quero criar essa tabela e saber quantas vendas sao\n",
    "\n",
    "# tudo junto\n",
    "df_loja306semdev = vendas_df[(vendas_df['ID Loja'] ==306) & (vendas_df['Quantidade Devolvida'] == 0)]\n",
    "display(df_loja306semdev)\n"
   ]
  },
  {
   "cell_type": "code",
   "execution_count": null,
   "id": "e9ecc58c",
   "metadata": {},
   "outputs": [],
   "source": [
    "# separado, filtrando o dataframe\n",
    "\n",
    "loja306 = vendas_df['ID Loja'] == 306\n",
    "qtde_devolvida_0 = vendas_df['Quantidade Devolvida'] == 0\n",
    "df2_loja306semdev = vendas_df[loja306 & qtde_devolvida_0]\n",
    "display(df2_loja306semdev)"
   ]
  },
  {
   "cell_type": "code",
   "execution_count": null,
   "id": "49fc132a",
   "metadata": {},
   "outputs": [],
   "source": [
    "#------------------------------------------------------------------------------------\n",
    "# ☑️ 9. Adicionando e Modificando Colunas DataFrame\n",
    "# \n",
    "#------------------------------------------------------------------------------------\n",
    "\n",
    "# verificando tipo da coluna 'data da venda'\n",
    "\n",
    "vendas_df.info()"
   ]
  },
  {
   "cell_type": "code",
   "execution_count": null,
   "id": "5af6ecf6",
   "metadata": {},
   "outputs": [],
   "source": [
    "# modificando a coluna 'Data da venda' atraves de to_datetime\n",
    "\n",
    "vendas_df['Data da Venda'] = pd.to_datetime(vendas_df['Data da Venda'], format='%d/%m/%Y')\n",
    "vendas_df['Ano da Venda'] = vendas_df['Data da Venda'].dt.year\n",
    "vendas_df['Mes da Venda'] = vendas_df['Data da Venda'].dt.month\n",
    "vendas_df['Dia da Venda'] = vendas_df['Data da Venda'].dt.day\n",
    "#display(vendas_df)\n",
    "vendas_df.info()"
   ]
  },
  {
   "cell_type": "code",
   "execution_count": null,
   "id": "55e44ee5",
   "metadata": {},
   "outputs": [],
   "source": [
    "#------------------------------------------------------------------------------------\n",
    "# ☑️ 10. Modificando e Consultando Valores em DataFrame\n",
    "# \n",
    "#------------------------------------------------------------------------------------\n",
    "\n",
    "# E agora, caso a gente queira modificar 1 valor específico, como fazemos ❓ Vamos importar novamente a base de produtos\n",
    "\n",
    "novo_produtos_df = pd.read_csv('Contoso - Cadastro Produtos.csv', sep=';')\n",
    "display(novo_produtos_df.head())\n",
    "\n",
    "# o .head() mostra apenas os primeiros valores, é bem comum esse uso para ter uma visão do que são os dados\n"
   ]
  },
  {
   "cell_type": "code",
   "execution_count": null,
   "id": "2f518cae",
   "metadata": {},
   "outputs": [],
   "source": [
    "# Antes de entrar no próximo exemplo, precisamos falar de 2 métodos: 🔍\n",
    "# 👉 1. loc - permite pegar uma linha de acordo com o índice dela. Ele dá erro caso não encontre o índice. \n",
    "# Isso é interessante principalmente quando o índice é uma informação relevante ao invés só do número do índice ou \n",
    "# quando queremos pegar alguma linha específica do dataframe (ao invés de ir do início do dataframe até a linha 5, por exemplo).\n",
    "\n",
    "# Também podemos usar como loc[índice_linha, índice_coluna] para acessar um valor específico e modificá-lo.\n",
    "# 👉 2. iloc - enxerga o dataframe como linhas e colunas e consegue pegar o valor com um número de linha e um número de coluna.\n",
    "# Observe que ele não analisa o valor do índice da linha e da coluna, apenas a posição importa.\n",
    "# Uso: iloc[num_linha, num_coluna]\n",
    "\n",
    "novo_produtos_df = pd.read_csv('Contoso - Cadastro Produtos.csv', sep=';')\n",
    "novo_produtos_df = novo_produtos_df.set_index('Nome do Produto')\n",
    "display(novo_produtos_df.head()) # pega as primeiras linhas e .tail as ultimas\n",
    "\n"
   ]
  },
  {
   "cell_type": "code",
   "execution_count": null,
   "id": "157db99e",
   "metadata": {},
   "outputs": [],
   "source": [
    "# vamos pegar o preço produto Contoso Optical Wheel OEM PS/2 Mouse E60 Black\n",
    "# por loc\n",
    "print(novo_produtos_df.loc['Contoso Optical Wheel OEM PS/2 Mouse E60 Black','Preco Unitario'])\n",
    "\n",
    "# por iloc\n",
    "print(novo_produtos_df.iloc[2,5])"
   ]
  },
  {
   "cell_type": "code",
   "execution_count": null,
   "id": "6bf8c854",
   "metadata": {},
   "outputs": [],
   "source": [
    "# A empresa decidiu aumentar o preço do produto ID 873 (Contoso Wireless Laser Mouse E50 Grey) para 23 reais. \n",
    "# Como fazemos, para modificar isso na nossa base ❓\n",
    "\n",
    "novo_produtos_df.loc['Contoso Wireless Laser Mouse E50 Grey','Preco Unitario'] = 23\n",
    "display(novo_produtos_df.head())"
   ]
  },
  {
   "cell_type": "code",
   "execution_count": null,
   "id": "4b3bb78c",
   "metadata": {},
   "outputs": [],
   "source": [
    "novo_produtos_df.loc[novo_produtos_df['ID Produto'] == 873, 'Preco Unitario'] = 23\n",
    "display(novo_produtos_df.head())"
   ]
  },
  {
   "cell_type": "code",
   "execution_count": null,
   "id": "3b23a9e4",
   "metadata": {},
   "outputs": [],
   "source": [
    "#------------------------------------------------------------------------------------\n",
    "# ☑️ 11. Exportando para csv\n",
    "# \n",
    "#------------------------------------------------------------------------------------\n",
    "\n",
    "# Exportando do Dataframe para um csv\n",
    "# No pandas, isso é bem simples: dataframe.to_csv('nome_do_arquivo.ext', sep=',')\n",
    "\n",
    "vendas_df.to_csv('Novo Vendas 2017_apagar.csv', sep=';')"
   ]
  },
  {
   "cell_type": "code",
   "execution_count": null,
   "id": "c2aff179",
   "metadata": {},
   "outputs": [],
   "source": [
    "# Criando um dicionario, transformando o dicionario em um dataframe e exportnado para csv\n",
    "\n",
    "vendas_produtos = {'iphone': [558147, 951642], 'galaxy': [712350, 244295], 'ipad': [573823, 26964], 'tv': [405252, 787604], 'máquina de café': [718654, 867660], 'kindle': [531580, 78830], 'geladeira': [973139, 710331], 'adega': [892292, 646016], 'notebook dell': [422760, 694913], 'notebook hp': [154753, 539704], 'notebook asus': [887061, 324831], 'microsoft surface': [438508, 667179], 'webcam': [237467, 295633], 'caixa de som': [489705, 725316], 'microfone': [328311, 644622], 'câmera canon': [591120, 994303]}\n",
    "vendas_produtos_df = pd.DataFrame.from_dict(vendas_produtos)\n",
    "# a orientacao padrao é por colunas ou seja a chave vao ser colunas, se quiser que as chaves sejam os indices faça orient='index'\n",
    "vendas_produtos_df = pd.DataFrame.from_dict(vendas_produtos, orient='index')\n",
    "vendas_produtos_df = vendas_produtos_df.rename(columns={0: 'vendas 2019', 1: 'Vendas 2020'})\n",
    "display(vendas_produtos_df)\n"
   ]
  },
  {
   "cell_type": "code",
   "execution_count": null,
   "id": "38bb0a0b",
   "metadata": {},
   "outputs": [],
   "source": [
    "#exportnado para csv\n",
    "\n",
    "vendas_produtos_df.to_csv('Novo Vendas Produtos_del.csv', sep=';')"
   ]
  },
  {
   "cell_type": "code",
   "execution_count": null,
   "id": "82735b14",
   "metadata": {},
   "outputs": [],
   "source": [
    "# Lendo um csv diretamente da internet\n",
    "# caso 1: csv direto no link\n",
    "\n",
    "import pandas as pd\n",
    "\n",
    "url = 'https://drive.google.com/uc?authuser=0&id=1Ru7s-x3YJuStZK1mqr_qNqiHVvdHUN66&export=download'\n",
    "cotacao_df = pd.read_csv(url)\n",
    "display(cotacao_df)"
   ]
  },
  {
   "cell_type": "code",
   "execution_count": null,
   "id": "04d5db3a",
   "metadata": {},
   "outputs": [],
   "source": [
    "# Caso 2: csv em uma requisição que precisa ser tratada\n",
    "# Histórico de preços do café no Google diretamente nesse site: https://portalweb.cooxupe.com.br:9080/portal/precohistoricocafe_2.jsp\n",
    "\n",
    "import pandas as pd\n",
    "import requests\n",
    "import io\n",
    "\n",
    "url = 'https://portalweb.cooxupe.com.br:9080/portal/precohistoricocafe_2.jsp?d-3496238-e=2&6578706f7274=1'\n",
    "conteudo_url = requests.get(url).content\n",
    "arquivo = io.StringIO(conteudo_url.decode('latin1'))\n",
    "cafe_df = pd.read_csv(arquivo, sep=r'\\t', engine='python')\n",
    "display(cafe_df)\n",
    "\n",
    "# Apenas para lembrar os tipos de encoding principais que vamos usar:\n",
    "# encoding='latin1'; encoding='ISO-8859-1'; encoding='utf-8'; encoding='cp1252'\n"
   ]
  },
  {
   "cell_type": "code",
   "execution_count": null,
   "id": "fe9cf8be",
   "metadata": {},
   "outputs": [],
   "source": [
    "#------------------------------------------------------------------------------------\n",
    "# ☑️ 13. Obs: Integração de Python com Excel - Pandas ou openpyxl\n",
    "# \n",
    "# 👉 Duas formas mais utilizadas\n",
    "#\n",
    "#  1. Pandas\n",
    "#  ➢ Mais usada no geral; ➢ Trata o Excel como uma base de dados; ➢ Faz o que quiser com o arquivo; ➢ Pode desfazer a estrutura original do arquivo, caso queira editar\n",
    "#\n",
    "#  2. Openpyxl\n",
    "#  ➢ Trata o Excel como uma planilha mesmo que pode ter várias coisas; ➢ Edita \"como se fosse um VBA\";\n",
    "#  ➢ Menos eficiente; ➢ Mantém mais a estrutura original do arquivo, mas cuidado porque não necessariamente tudo, então tem que testar\n",
    "#\n",
    "#------------------------------------------------------------------------------------\n",
    "\n",
    "# 🎯 Desafio\n",
    "# Temos uma planilha de produtos e serviços. Com o aumento de imposto sobre os serviços, temos que atualizar o preço dos produtos impactados pela mudança.\n",
    "\n",
    "# Novo Multiplicador Imposto: 1.5\n",
    "import pandas as pd\n",
    "\n",
    "tabela = pd.read_excel('Produtos.xlsx')\n",
    "display(tabela)\n"
   ]
  },
  {
   "cell_type": "code",
   "execution_count": null,
   "id": "efd1842a",
   "metadata": {},
   "outputs": [],
   "source": [
    "# atualizar o multipicador\n",
    "# sintaxe: tabela.loc[linha,coluna] = 1.5\n",
    "tabela.loc[tabela['Tipo'] == 'Serviço','Multiplicador Imposto'] = 1.5\n",
    "\n",
    "# fazer a conta do preco base reais\n",
    "tabela['Preço Base Reais'] = tabela['Multiplicador Imposto'] * tabela['Preço Base Original']\n",
    "\n",
    "tabela.to_excel('ProdutosPandas.xlsx', index=False)\n"
   ]
  },
  {
   "cell_type": "code",
   "execution_count": null,
   "id": "25f6c178",
   "metadata": {},
   "outputs": [],
   "source": [
    "# OPENPYXL\n",
    "from openpyxl import Workbook, load_workbook\n",
    "\n",
    "planilha = load_workbook('Produtos.xlsx')\n",
    "aba_ativa = planilha.active\n",
    "\n",
    "for celula in aba_ativa['C']:\n",
    "  if celula.value == 'Serviço':\n",
    "    linha = celula.row\n",
    "    aba_ativa[f'D{linha}'] = 1.5\n",
    "\n",
    "planilha.save('Produtos_DELL.xlsx')"
   ]
  },
  {
   "cell_type": "code",
   "execution_count": null,
   "id": "ca2db1f8",
   "metadata": {},
   "outputs": [],
   "source": [
    "#------------------------------------------------------------------------------------\n",
    "# ☑️ 14. Criando uma barra de progresso em Python - tqdm\n",
    "# \n",
    "# E quando o nosso código demora muito? Será que travou? Quanto tempo vai demorar?\n",
    "# Biblioteca/Módulo tqdm\n",
    "# Vamos importar os arquivos csv da Empresa Contoso e tratar como fizemos anteriormente\n",
    "#\n",
    "#------------------------------------------------------------------------------------\n",
    "\n",
    "import pandas as pd\n",
    "\n",
    "# importando os arquivos\n",
    "vendas_df = pd.read_csv('Contoso - Vendas - 2017.csv', sep=';')\n",
    "produtos_df = pd.read_csv('Contoso - Cadastro Produtos.csv', sep=';')\n",
    "lojas_df = pd.read_csv('Contoso - Lojas.csv', sep=';')\n",
    "clientes_df = pd.read_csv('Contoso - Clientes.csv', sep=';')\n",
    "\n",
    "# limpando apenas as colunas que queremos\n",
    "clientes_df = clientes_df[['ID Cliente', 'E-mail']]\n",
    "produtos_df = produtos_df[['ID Produto', 'Nome do Produto']]\n",
    "lojas_df = lojas_df[['ID Loja', 'Nome da Loja']]\n",
    "\n",
    "# mesclando e renomeando os dataframes\n",
    "vendas_df = vendas_df.merge(produtos_df, on='ID Produto')\n",
    "vendas_df = vendas_df.merge(lojas_df, on='ID Loja')\n",
    "vendas_df = vendas_df.merge(clientes_df, on='ID Cliente').rename(columns={'E-mail': 'E-mail do Cliente'})\n",
    "display(vendas_df)\n",
    "\n"
   ]
  },
  {
   "cell_type": "code",
   "execution_count": null,
   "id": "2552513b",
   "metadata": {},
   "outputs": [],
   "source": [
    "# Agora, imagina que a Loja Contoso Roma (ID 222), para tentar burlar o sistema de metas, diminuiu 1 da quantidade devolvida de todas as vendas que ela teve.\n",
    "# Descobrindo isso, precisamos arrumar a base\n",
    "from tqdm import tqdm\n",
    "\n",
    "pbar = tqdm(total=len(vendas_df['ID Loja']), position=0, leave=True)\n",
    "\n",
    "for i, id_loja in enumerate(vendas_df['ID Loja']):\n",
    "  pbar.update()\n",
    "  if id_loja == 222:\n",
    "    vendas_df.loc[i,'Quantidade Devolvida'] += 1\n",
    "display(vendas_df)"
   ]
  },
  {
   "cell_type": "code",
   "execution_count": null,
   "id": "692621d1",
   "metadata": {},
   "outputs": [],
   "source": [
    "#------------------------------------------------------------------------------------\n",
    "# ☑️ 15. Exercício Desafio pandas - Mini Projeto Análise de Dados\n",
    "# \n",
    "#------------------------------------------------------------------------------------\n",
    "\n",
    "# O que temos ❓\n",
    "\n",
    "# Temos os dados de 2019 de uma empresa de prestação de serviços.\n",
    "# CadastroFuncionarios\n",
    "# CadastroClientes\n",
    "# BaseServiçosPrestados\n",
    "\n",
    "# Obs1: Para ler arquivos csv, temos o read_csv\n",
    "# Obs2: Para ler arquivos xlsx (arquivos em excel normais, que não são padrão csv), temos o read_excel\n",
    "\n",
    "# O que queremos saber/fazer ❓\n",
    "\n",
    "# 1. Valor Total da Folha Salarial -> Qual foi o gasto total com salários de funcionários pela empresa ❓\n",
    "# Sugestão: Vamos calcular o salário total de cada funcionário, salário + benefícios + impostos, depois somar todos os salários\n",
    "# 2. Qual foi o faturamento da empresa ❓\n",
    "#  Sugestão: calcular o faturamento total de cada serviço e depois somar o faturamento de todos\n",
    "#\n",
    "# 3. Qual o % de funcionários que já fechou algum contrato ❓\n",
    "#  Sugestão: na base de serviços temos o funcionário que fechou cada serviço. Mas nem todos os funcionários que a empresa tem já fecharam algum serviço.\n",
    "#  Na base de funcionários temos uma lista com todos os funcionários\n",
    "#  Queremos calcular Qtde_Funcionarios_Fecharam_Serviço / Qtde_Funcionários_Totais\n",
    "#  Para calcular a qtde de funcionários que fecharam algum serviço, use a base de serviços e conte quantos funcionários tem ali. \n",
    "#  Mas lembre-se, cada funcionário só pode ser contado uma única vez.\n",
    "#  Dica: se você aplicar o método .unique() em uma variável que é apenas 1 coluna de um dataframe, ele vai excluir todos os valores duplicados daquela coluna.\n",
    "#  Ex: unicos_colunaA = dataframe['colunaA'].unique() te dá como resposta uma lista com todos os itens da colunaA aparecendo uma única vez. \n",
    "#  Todos os valores repetidos da colunaA são excluidos da variável unicos_colunaA\n",
    "\n",
    "# 4. Calcule o total de contratos que cada área da empresa já fechou\n",
    "# 5. Calcule o total de funcionários por área\n",
    "# 6. Qual o ticket médio mensal (faturamento médio mensal) dos contratos?\n",
    "#    Dica: .mean() calcula a média -> exemplo: media_colunaA = dataframe['colunaA'].mean()\n",
    "#    Obs: Lembrando as opções mais usuais de encoding:\n",
    "#    encoding='latin1', encoding='ISO-8859-1', encoding='utf-8' ou então encoding='cp1252'\n",
    "#    Observação Importante: Se o código der um erro na hora de importar os arquivos:\n",
    "#    - CadastroClientes.csv\n",
    "#    - CadastroFuncionarios.csv\n",
    "\n",
    "import pandas as pd\n",
    "\n",
    "# 🔹 Dica: as vezes o codigo produz um erro porque no python o padrao é ponto e no csv por padrao separa as colunas por virgula, como tem virugla nos numeros acaba \n",
    "# gerando um erro. Para solucinoar usar o separador como ponto e virgula e o decimal como virgula\n",
    "\n",
    "funcionarios_df = pd.read_csv('CadastroFuncionarios.csv',sep=';', decimal=',')\n",
    "display(funcionarios_df)\n"
   ]
  },
  {
   "cell_type": "code",
   "execution_count": null,
   "id": "29cbd528",
   "metadata": {},
   "outputs": [],
   "source": [
    "#------------------------------------------------------------------------------------\n",
    "# ☑️ 16. Exercício Desafio pandas - Importaçao e Tratamento de Dados\n",
    "# \n",
    "#------------------------------------------------------------------------------------\n",
    "\n",
    "# IMPORTACAO DE MODULOS E ARQUIVOS\n",
    "\n",
    "\n",
    "import pandas as pd\n",
    "\n",
    "funcionarios_df = pd.read_csv('CadastroFuncionarios.csv',sep=';', decimal=',')\n",
    "clientes_df = pd.read_csv('CadastroClientes.csv',sep=';', decimal=',')\n",
    "servicos_df = pd.read_excel('BaseServiçosPrestados.xlsx')\n",
    "\n",
    "# retirar colunas Estado Civil e Cargo da tabela de funcionarios\n",
    "funcionarios_df = funcionarios_df.drop(['Estado Civil','Cargo'], axis=1)  # axis igual a 1 se refere a coluna\n",
    "\n",
    "\n",
    "display(funcionarios_df)\n",
    "display(clientes_df)\n",
    "display(servicos_df)"
   ]
  },
  {
   "cell_type": "code",
   "execution_count": 72,
   "id": "0c271b7b",
   "metadata": {},
   "outputs": [
    {
     "name": "stdout",
     "output_type": "stream",
     "text": [
      "Total da folha salarial é de R$2,717,493.22\n"
     ]
    }
   ],
   "source": [
    "# 1-FOLHA SALARIAL\n",
    "\n",
    "funcionarios_df['Salario Total'] = funcionarios_df['Salario Base'] + funcionarios_df['Impostos'] + funcionarios_df['Beneficios'] + funcionarios_df['VT'] + funcionarios_df['VR']\n",
    "print('Total da folha salarial é de R${:,}'.format(funcionarios_df['Salario Total'].sum()))\n"
   ]
  },
  {
   "cell_type": "code",
   "execution_count": 73,
   "id": "cdf872d9",
   "metadata": {},
   "outputs": [
    {
     "name": "stdout",
     "output_type": "stream",
     "text": [
      "Faturamento Total: R$5,519,160\n"
     ]
    }
   ],
   "source": [
    "# 2-FATURAMENTO DA EMPRESA\n",
    "\n",
    "faturamento_df = servicos_df[['ID Cliente','Tempo Total de Contrato (Meses)']].merge(clientes_df[['ID Cliente','Valor Contrato Mensal']], on='ID Cliente')\n",
    "faturamento_df['Faturamento Total'] = faturamento_df['Tempo Total de Contrato (Meses)'] * faturamento_df['Valor Contrato Mensal']\n",
    "print('Faturamento Total: R${:,}'.format(sum(faturamento_df['Faturamento Total'])))\n"
   ]
  },
  {
   "cell_type": "code",
   "execution_count": null,
   "id": "e09be003",
   "metadata": {},
   "outputs": [
    {
     "name": "stdout",
     "output_type": "stream",
     "text": [
      "Percentual Funcionarios fecharam Contrato: 86.84%\n"
     ]
    }
   ],
   "source": [
    "# 3- % FUNCIONARIOS FECHARAM CONTRATO\n",
    "\n",
    "Qtde_Funcionarios_FecharamContrato = len(servicos_df['ID Funcionário'].unique())\n",
    "Qtde_funcionarios_total = len(funcionarios_df['ID Funcionário'])\n",
    "print('Percentual Funcionarios fecharam Contrato: {:.2%}'.format(Qtde_Funcionarios_FecharamContrato / Qtde_funcionarios_total))\n",
    "\n"
   ]
  },
  {
   "cell_type": "code",
   "execution_count": null,
   "id": "10793fd1",
   "metadata": {},
   "outputs": [],
   "source": [
    "# 4-QTDE CONTRATOS POR AREA\n",
    "\n",
    "contratos_area_df = servicos_df[['ID Funcionário']].merge(funcionarios_df[['ID Funcionário','Area']], on='ID Funcionário')\n",
    "contratos_area_qtde = contratos_area_df['Area'].value_counts()\n",
    "print(contratos_area_qtde)\n"
   ]
  },
  {
   "cell_type": "code",
   "execution_count": null,
   "id": "8cad663b",
   "metadata": {},
   "outputs": [
    {
     "name": "stdout",
     "output_type": "stream",
     "text": [
      "Area\n",
      "Administrativo    26\n",
      "Comercial         26\n",
      "Operações         23\n",
      "Logística         21\n",
      "Financeiro        18\n",
      "Name: count, dtype: int64\n"
     ]
    },
    {
     "data": {
      "text/plain": [
       "<Axes: xlabel='Area'>"
      ]
     },
     "execution_count": 75,
     "metadata": {},
     "output_type": "execute_result"
    },
    {
     "data": {
      "image/png": "[encoded data removed]",
      "text/plain": [
       "<Figure size 640x480 with 1 Axes>"
      ]
     },
     "metadata": {},
     "output_type": "display_data"
    }
   ],
   "source": [
    "# 5-FUNCIONARIOS POR AREA\n",
    "\n",
    "funcionarios_area = funcionarios_df['Area'].value_counts()\n",
    "print(funcionarios_area)\n",
    "funcionarios_area.plot(kind='bar')\n",
    "\n"
   ]
  },
  {
   "cell_type": "code",
   "execution_count": null,
   "id": "0f2c7bbc",
   "metadata": {},
   "outputs": [
    {
     "name": "stdout",
     "output_type": "stream",
     "text": [
      "Ticket Medio Mensal: R$2,502.56\n"
     ]
    }
   ],
   "source": [
    "# 6-TICKET MEDIO MENSAL\n",
    "\n",
    "ticket_medio = clientes_df['Valor Contrato Mensal'].mean()\n",
    "print('Ticket Medio Mensal: R${:,.2f}'.format(ticket_medio))"
   ]
  }
 ],
 "metadata": {
  "kernelspec": {
   "display_name": ".venv",
   "language": "python",
   "name": "python3"
  },
  "language_info": {
   "codemirror_mode": {
    "name": "ipython",
    "version": 3
   },
   "file_extension": ".py",
   "mimetype": "text/x-python",
   "name": "python",
   "nbconvert_exporter": "python",
   "pygments_lexer": "ipython3",
   "version": "3.13.3"
  }
 },
 "nbformat": 4,
 "nbformat_minor": 5
}
